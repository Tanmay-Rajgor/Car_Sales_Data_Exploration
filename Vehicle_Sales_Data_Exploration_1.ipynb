{
 "cells": [
  {
   "cell_type": "code",
   "execution_count": 59,
   "metadata": {},
   "outputs": [],
   "source": [
    "import pandas as pd\n",
    "import seaborn as sns\n",
    "import matplotlib.pyplot as plt"
   ]
  },
  {
   "cell_type": "code",
   "execution_count": 60,
   "metadata": {},
   "outputs": [],
   "source": [
    "car_sales = pd.read_csv(\"car_prices.csv\")"
   ]
  },
  {
   "cell_type": "code",
   "execution_count": 61,
   "metadata": {},
   "outputs": [
    {
     "data": {
      "text/html": [
       "<div>\n",
       "<style scoped>\n",
       "    .dataframe tbody tr th:only-of-type {\n",
       "        vertical-align: middle;\n",
       "    }\n",
       "\n",
       "    .dataframe tbody tr th {\n",
       "        vertical-align: top;\n",
       "    }\n",
       "\n",
       "    .dataframe thead th {\n",
       "        text-align: right;\n",
       "    }\n",
       "</style>\n",
       "<table border=\"1\" class=\"dataframe\">\n",
       "  <thead>\n",
       "    <tr style=\"text-align: right;\">\n",
       "      <th></th>\n",
       "      <th>year</th>\n",
       "      <th>make</th>\n",
       "      <th>model</th>\n",
       "      <th>trim</th>\n",
       "      <th>body</th>\n",
       "      <th>transmission</th>\n",
       "      <th>vin</th>\n",
       "      <th>state</th>\n",
       "      <th>condition</th>\n",
       "      <th>odometer</th>\n",
       "      <th>color</th>\n",
       "      <th>interior</th>\n",
       "      <th>seller</th>\n",
       "      <th>mmr</th>\n",
       "      <th>sellingprice</th>\n",
       "      <th>saledate</th>\n",
       "    </tr>\n",
       "  </thead>\n",
       "  <tbody>\n",
       "    <tr>\n",
       "      <th>0</th>\n",
       "      <td>2015</td>\n",
       "      <td>Kia</td>\n",
       "      <td>Sorento</td>\n",
       "      <td>LX</td>\n",
       "      <td>SUV</td>\n",
       "      <td>automatic</td>\n",
       "      <td>5xyktca69fg566472</td>\n",
       "      <td>ca</td>\n",
       "      <td>5.0</td>\n",
       "      <td>16639.0</td>\n",
       "      <td>white</td>\n",
       "      <td>black</td>\n",
       "      <td>kia motors america  inc</td>\n",
       "      <td>20500.0</td>\n",
       "      <td>21500.0</td>\n",
       "      <td>Tue Dec 16 2014 12:30:00 GMT-0800 (PST)</td>\n",
       "    </tr>\n",
       "    <tr>\n",
       "      <th>1</th>\n",
       "      <td>2015</td>\n",
       "      <td>Kia</td>\n",
       "      <td>Sorento</td>\n",
       "      <td>LX</td>\n",
       "      <td>SUV</td>\n",
       "      <td>automatic</td>\n",
       "      <td>5xyktca69fg561319</td>\n",
       "      <td>ca</td>\n",
       "      <td>5.0</td>\n",
       "      <td>9393.0</td>\n",
       "      <td>white</td>\n",
       "      <td>beige</td>\n",
       "      <td>kia motors america  inc</td>\n",
       "      <td>20800.0</td>\n",
       "      <td>21500.0</td>\n",
       "      <td>Tue Dec 16 2014 12:30:00 GMT-0800 (PST)</td>\n",
       "    </tr>\n",
       "    <tr>\n",
       "      <th>2</th>\n",
       "      <td>2014</td>\n",
       "      <td>BMW</td>\n",
       "      <td>3 Series</td>\n",
       "      <td>328i SULEV</td>\n",
       "      <td>Sedan</td>\n",
       "      <td>automatic</td>\n",
       "      <td>wba3c1c51ek116351</td>\n",
       "      <td>ca</td>\n",
       "      <td>45.0</td>\n",
       "      <td>1331.0</td>\n",
       "      <td>gray</td>\n",
       "      <td>black</td>\n",
       "      <td>financial services remarketing (lease)</td>\n",
       "      <td>31900.0</td>\n",
       "      <td>30000.0</td>\n",
       "      <td>Thu Jan 15 2015 04:30:00 GMT-0800 (PST)</td>\n",
       "    </tr>\n",
       "    <tr>\n",
       "      <th>3</th>\n",
       "      <td>2015</td>\n",
       "      <td>Volvo</td>\n",
       "      <td>S60</td>\n",
       "      <td>T5</td>\n",
       "      <td>Sedan</td>\n",
       "      <td>automatic</td>\n",
       "      <td>yv1612tb4f1310987</td>\n",
       "      <td>ca</td>\n",
       "      <td>41.0</td>\n",
       "      <td>14282.0</td>\n",
       "      <td>white</td>\n",
       "      <td>black</td>\n",
       "      <td>volvo na rep/world omni</td>\n",
       "      <td>27500.0</td>\n",
       "      <td>27750.0</td>\n",
       "      <td>Thu Jan 29 2015 04:30:00 GMT-0800 (PST)</td>\n",
       "    </tr>\n",
       "    <tr>\n",
       "      <th>4</th>\n",
       "      <td>2014</td>\n",
       "      <td>BMW</td>\n",
       "      <td>6 Series Gran Coupe</td>\n",
       "      <td>650i</td>\n",
       "      <td>Sedan</td>\n",
       "      <td>automatic</td>\n",
       "      <td>wba6b2c57ed129731</td>\n",
       "      <td>ca</td>\n",
       "      <td>43.0</td>\n",
       "      <td>2641.0</td>\n",
       "      <td>gray</td>\n",
       "      <td>black</td>\n",
       "      <td>financial services remarketing (lease)</td>\n",
       "      <td>66000.0</td>\n",
       "      <td>67000.0</td>\n",
       "      <td>Thu Dec 18 2014 12:30:00 GMT-0800 (PST)</td>\n",
       "    </tr>\n",
       "  </tbody>\n",
       "</table>\n",
       "</div>"
      ],
      "text/plain": [
       "   year   make                model        trim   body transmission  \\\n",
       "0  2015    Kia              Sorento          LX    SUV    automatic   \n",
       "1  2015    Kia              Sorento          LX    SUV    automatic   \n",
       "2  2014    BMW             3 Series  328i SULEV  Sedan    automatic   \n",
       "3  2015  Volvo                  S60          T5  Sedan    automatic   \n",
       "4  2014    BMW  6 Series Gran Coupe        650i  Sedan    automatic   \n",
       "\n",
       "                 vin state  condition  odometer  color interior  \\\n",
       "0  5xyktca69fg566472    ca        5.0   16639.0  white    black   \n",
       "1  5xyktca69fg561319    ca        5.0    9393.0  white    beige   \n",
       "2  wba3c1c51ek116351    ca       45.0    1331.0   gray    black   \n",
       "3  yv1612tb4f1310987    ca       41.0   14282.0  white    black   \n",
       "4  wba6b2c57ed129731    ca       43.0    2641.0   gray    black   \n",
       "\n",
       "                                   seller      mmr  sellingprice  \\\n",
       "0                 kia motors america  inc  20500.0       21500.0   \n",
       "1                 kia motors america  inc  20800.0       21500.0   \n",
       "2  financial services remarketing (lease)  31900.0       30000.0   \n",
       "3                 volvo na rep/world omni  27500.0       27750.0   \n",
       "4  financial services remarketing (lease)  66000.0       67000.0   \n",
       "\n",
       "                                  saledate  \n",
       "0  Tue Dec 16 2014 12:30:00 GMT-0800 (PST)  \n",
       "1  Tue Dec 16 2014 12:30:00 GMT-0800 (PST)  \n",
       "2  Thu Jan 15 2015 04:30:00 GMT-0800 (PST)  \n",
       "3  Thu Jan 29 2015 04:30:00 GMT-0800 (PST)  \n",
       "4  Thu Dec 18 2014 12:30:00 GMT-0800 (PST)  "
      ]
     },
     "execution_count": 61,
     "metadata": {},
     "output_type": "execute_result"
    }
   ],
   "source": [
    "car_sales.head()"
   ]
  },
  {
   "cell_type": "code",
   "execution_count": 62,
   "metadata": {},
   "outputs": [
    {
     "data": {
      "text/html": [
       "<div>\n",
       "<style scoped>\n",
       "    .dataframe tbody tr th:only-of-type {\n",
       "        vertical-align: middle;\n",
       "    }\n",
       "\n",
       "    .dataframe tbody tr th {\n",
       "        vertical-align: top;\n",
       "    }\n",
       "\n",
       "    .dataframe thead th {\n",
       "        text-align: right;\n",
       "    }\n",
       "</style>\n",
       "<table border=\"1\" class=\"dataframe\">\n",
       "  <thead>\n",
       "    <tr style=\"text-align: right;\">\n",
       "      <th></th>\n",
       "      <th>year</th>\n",
       "      <th>condition</th>\n",
       "      <th>odometer</th>\n",
       "      <th>mmr</th>\n",
       "      <th>sellingprice</th>\n",
       "    </tr>\n",
       "  </thead>\n",
       "  <tbody>\n",
       "    <tr>\n",
       "      <th>count</th>\n",
       "      <td>558837.000000</td>\n",
       "      <td>547017.000000</td>\n",
       "      <td>558743.000000</td>\n",
       "      <td>558799.000000</td>\n",
       "      <td>558825.000000</td>\n",
       "    </tr>\n",
       "    <tr>\n",
       "      <th>mean</th>\n",
       "      <td>2010.038927</td>\n",
       "      <td>30.672365</td>\n",
       "      <td>68320.017767</td>\n",
       "      <td>13769.377495</td>\n",
       "      <td>13611.358810</td>\n",
       "    </tr>\n",
       "    <tr>\n",
       "      <th>std</th>\n",
       "      <td>3.966864</td>\n",
       "      <td>13.402832</td>\n",
       "      <td>53398.542821</td>\n",
       "      <td>9679.967174</td>\n",
       "      <td>9749.501628</td>\n",
       "    </tr>\n",
       "    <tr>\n",
       "      <th>min</th>\n",
       "      <td>1982.000000</td>\n",
       "      <td>1.000000</td>\n",
       "      <td>1.000000</td>\n",
       "      <td>25.000000</td>\n",
       "      <td>1.000000</td>\n",
       "    </tr>\n",
       "    <tr>\n",
       "      <th>25%</th>\n",
       "      <td>2007.000000</td>\n",
       "      <td>23.000000</td>\n",
       "      <td>28371.000000</td>\n",
       "      <td>7100.000000</td>\n",
       "      <td>6900.000000</td>\n",
       "    </tr>\n",
       "    <tr>\n",
       "      <th>50%</th>\n",
       "      <td>2012.000000</td>\n",
       "      <td>35.000000</td>\n",
       "      <td>52254.000000</td>\n",
       "      <td>12250.000000</td>\n",
       "      <td>12100.000000</td>\n",
       "    </tr>\n",
       "    <tr>\n",
       "      <th>75%</th>\n",
       "      <td>2013.000000</td>\n",
       "      <td>42.000000</td>\n",
       "      <td>99109.000000</td>\n",
       "      <td>18300.000000</td>\n",
       "      <td>18200.000000</td>\n",
       "    </tr>\n",
       "    <tr>\n",
       "      <th>max</th>\n",
       "      <td>2015.000000</td>\n",
       "      <td>49.000000</td>\n",
       "      <td>999999.000000</td>\n",
       "      <td>182000.000000</td>\n",
       "      <td>230000.000000</td>\n",
       "    </tr>\n",
       "  </tbody>\n",
       "</table>\n",
       "</div>"
      ],
      "text/plain": [
       "                year      condition       odometer            mmr  \\\n",
       "count  558837.000000  547017.000000  558743.000000  558799.000000   \n",
       "mean     2010.038927      30.672365   68320.017767   13769.377495   \n",
       "std         3.966864      13.402832   53398.542821    9679.967174   \n",
       "min      1982.000000       1.000000       1.000000      25.000000   \n",
       "25%      2007.000000      23.000000   28371.000000    7100.000000   \n",
       "50%      2012.000000      35.000000   52254.000000   12250.000000   \n",
       "75%      2013.000000      42.000000   99109.000000   18300.000000   \n",
       "max      2015.000000      49.000000  999999.000000  182000.000000   \n",
       "\n",
       "        sellingprice  \n",
       "count  558825.000000  \n",
       "mean    13611.358810  \n",
       "std      9749.501628  \n",
       "min         1.000000  \n",
       "25%      6900.000000  \n",
       "50%     12100.000000  \n",
       "75%     18200.000000  \n",
       "max    230000.000000  "
      ]
     },
     "execution_count": 62,
     "metadata": {},
     "output_type": "execute_result"
    }
   ],
   "source": [
    "car_sales.describe()"
   ]
  },
  {
   "cell_type": "code",
   "execution_count": 63,
   "metadata": {},
   "outputs": [
    {
     "data": {
      "text/plain": [
       "2015"
      ]
     },
     "execution_count": 63,
     "metadata": {},
     "output_type": "execute_result"
    }
   ],
   "source": [
    "car_sales['year'].max()"
   ]
  },
  {
   "cell_type": "code",
   "execution_count": 64,
   "metadata": {},
   "outputs": [],
   "source": [
    "max_occurence = car_sales['year'].value_counts().idxmax()"
   ]
  },
  {
   "cell_type": "code",
   "execution_count": 65,
   "metadata": {},
   "outputs": [],
   "source": [
    "max_count = car_sales['year'].value_counts().max()"
   ]
  },
  {
   "cell_type": "code",
   "execution_count": 66,
   "metadata": {},
   "outputs": [
    {
     "name": "stdout",
     "output_type": "stream",
     "text": [
      "102315\n"
     ]
    }
   ],
   "source": [
    "print(max_count)"
   ]
  },
  {
   "cell_type": "code",
   "execution_count": 67,
   "metadata": {},
   "outputs": [
    {
     "name": "stdout",
     "output_type": "stream",
     "text": [
      "2012\n"
     ]
    }
   ],
   "source": [
    "print(max_occurence)"
   ]
  },
  {
   "cell_type": "code",
   "execution_count": 68,
   "metadata": {},
   "outputs": [
    {
     "name": "stdout",
     "output_type": "stream",
     "text": [
      "<class 'pandas.core.frame.DataFrame'>\n",
      "RangeIndex: 558837 entries, 0 to 558836\n",
      "Data columns (total 16 columns):\n",
      "year            558837 non-null int64\n",
      "make            548536 non-null object\n",
      "model           548438 non-null object\n",
      "trim            548186 non-null object\n",
      "body            545642 non-null object\n",
      "transmission    493485 non-null object\n",
      "vin             558833 non-null object\n",
      "state           558837 non-null object\n",
      "condition       547017 non-null float64\n",
      "odometer        558743 non-null float64\n",
      "color           558088 non-null object\n",
      "interior        558088 non-null object\n",
      "seller          558837 non-null object\n",
      "mmr             558799 non-null float64\n",
      "sellingprice    558825 non-null float64\n",
      "saledate        558825 non-null object\n",
      "dtypes: float64(4), int64(1), object(11)\n",
      "memory usage: 68.2+ MB\n"
     ]
    }
   ],
   "source": [
    "car_sales.info()"
   ]
  },
  {
   "cell_type": "code",
   "execution_count": 69,
   "metadata": {},
   "outputs": [
    {
     "data": {
      "image/png": "[encoded data removed]",
      "text/plain": [
       "<Figure size 720x432 with 1 Axes>"
      ]
     },
     "metadata": {
      "needs_background": "light"
     },
     "output_type": "display_data"
    }
   ],
   "source": [
    "plt.figure(figsize=(10,6))\n",
    "car_sales['year'].value_counts().sort_index().plot(kind='bar')\n",
    "plt.title('Count of Year')\n",
    "plt.xlabel('Year')\n",
    "plt.ylabel('Count')\n",
    "plt.xticks(rotation=45)\n",
    "plt.tight_layout()\n",
    "plt.show()"
   ]
  },
  {
   "cell_type": "code",
   "execution_count": 70,
   "metadata": {},
   "outputs": [],
   "source": [
    "null_values = car_sales.isnull().sum()"
   ]
  },
  {
   "cell_type": "code",
   "execution_count": 71,
   "metadata": {},
   "outputs": [
    {
     "name": "stdout",
     "output_type": "stream",
     "text": [
      "year                0\n",
      "make            10301\n",
      "model           10399\n",
      "trim            10651\n",
      "body            13195\n",
      "transmission    65352\n",
      "vin                 4\n",
      "state               0\n",
      "condition       11820\n",
      "odometer           94\n",
      "color             749\n",
      "interior          749\n",
      "seller              0\n",
      "mmr                38\n",
      "sellingprice       12\n",
      "saledate           12\n",
      "dtype: int64\n"
     ]
    }
   ],
   "source": [
    "print(null_values)"
   ]
  },
  {
   "cell_type": "code",
   "execution_count": 72,
   "metadata": {},
   "outputs": [],
   "source": [
    "transmission_types = car_sales['transmission'].value_counts()"
   ]
  },
  {
   "cell_type": "code",
   "execution_count": 73,
   "metadata": {},
   "outputs": [
    {
     "name": "stdout",
     "output_type": "stream",
     "text": [
      "automatic    475915\n",
      "manual        17544\n",
      "sedan            15\n",
      "Sedan            11\n",
      "Name: transmission, dtype: int64\n"
     ]
    }
   ],
   "source": [
    "print(transmission_types)"
   ]
  },
  {
   "cell_type": "code",
   "execution_count": 74,
   "metadata": {},
   "outputs": [],
   "source": [
    "car_sales['transmission'] = car_sales['transmission'].replace('Sedan','sedan')"
   ]
  },
  {
   "cell_type": "code",
   "execution_count": 75,
   "metadata": {},
   "outputs": [
    {
     "name": "stdout",
     "output_type": "stream",
     "text": [
      "automatic    475915\n",
      "manual        17544\n",
      "sedan            26\n",
      "Name: transmission, dtype: int64\n"
     ]
    }
   ],
   "source": [
    "transmission_types = car_sales['transmission'].value_counts()\n",
    "print(transmission_types)"
   ]
  },
  {
   "cell_type": "code",
   "execution_count": 76,
   "metadata": {},
   "outputs": [
    {
     "data": {
      "image/png": "[encoded data removed]",
      "text/plain": [
       "<Figure size 576x576 with 1 Axes>"
      ]
     },
     "metadata": {},
     "output_type": "display_data"
    }
   ],
   "source": [
    "plt.figure(figsize=(8, 8))\n",
    "plt.pie(transmission_types, labels=transmission_types.index, autopct='%1.1f%%')\n",
    "plt.title('Distribution of Vehicle Transmissions')\n",
    "plt.show()"
   ]
  },
  {
   "cell_type": "code",
   "execution_count": 77,
   "metadata": {},
   "outputs": [
    {
     "name": "stdout",
     "output_type": "stream",
     "text": [
      "year                0\n",
      "make            10301\n",
      "model           10399\n",
      "trim            10651\n",
      "body            13195\n",
      "transmission    65352\n",
      "vin                 4\n",
      "state               0\n",
      "condition       11820\n",
      "odometer           94\n",
      "color             749\n",
      "interior          749\n",
      "seller              0\n",
      "mmr                38\n",
      "sellingprice       12\n",
      "saledate           12\n",
      "dtype: int64\n"
     ]
    }
   ],
   "source": [
    "null_values = car_sales.isnull().sum()\n",
    "print(null_values)"
   ]
  },
  {
   "cell_type": "code",
   "execution_count": 78,
   "metadata": {},
   "outputs": [],
   "source": [
    "car_sales = car_sales.interpolate(method='linear')"
   ]
  },
  {
   "cell_type": "code",
   "execution_count": 79,
   "metadata": {},
   "outputs": [
    {
     "name": "stdout",
     "output_type": "stream",
     "text": [
      "year                0\n",
      "make            10301\n",
      "model           10399\n",
      "trim            10651\n",
      "body            13195\n",
      "transmission    65352\n",
      "vin                 4\n",
      "state               0\n",
      "condition           0\n",
      "odometer            0\n",
      "color             749\n",
      "interior          749\n",
      "seller              0\n",
      "mmr                 0\n",
      "sellingprice        0\n",
      "saledate           12\n",
      "dtype: int64\n"
     ]
    }
   ],
   "source": [
    "null_values = car_sales.isnull().sum()\n",
    "print(null_values)"
   ]
  },
  {
   "cell_type": "code",
   "execution_count": 80,
   "metadata": {},
   "outputs": [
    {
     "data": {
      "text/plain": [
       "year              int64\n",
       "make             object\n",
       "model            object\n",
       "trim             object\n",
       "body             object\n",
       "transmission     object\n",
       "vin              object\n",
       "state            object\n",
       "condition       float64\n",
       "odometer        float64\n",
       "color            object\n",
       "interior         object\n",
       "seller           object\n",
       "mmr             float64\n",
       "sellingprice    float64\n",
       "saledate         object\n",
       "dtype: object"
      ]
     },
     "execution_count": 80,
     "metadata": {},
     "output_type": "execute_result"
    }
   ],
   "source": [
    "car_sales.dtypes"
   ]
  },
  {
   "cell_type": "code",
   "execution_count": 81,
   "metadata": {},
   "outputs": [],
   "source": [
    "columns_to_fill = ['make','model','trim','body','transmission','vin','color','interior','saledate']\n",
    "car_sales[columns_to_fill] = car_sales[columns_to_fill].fillna(method='ffill')"
   ]
  },
  {
   "cell_type": "code",
   "execution_count": 82,
   "metadata": {},
   "outputs": [
    {
     "name": "stdout",
     "output_type": "stream",
     "text": [
      "year            0\n",
      "make            0\n",
      "model           0\n",
      "trim            0\n",
      "body            0\n",
      "transmission    0\n",
      "vin             0\n",
      "state           0\n",
      "condition       0\n",
      "odometer        0\n",
      "color           0\n",
      "interior        0\n",
      "seller          0\n",
      "mmr             0\n",
      "sellingprice    0\n",
      "saledate        0\n",
      "dtype: int64\n"
     ]
    }
   ],
   "source": [
    "null_values = car_sales.isnull().sum()\n",
    "print(null_values)"
   ]
  },
  {
   "cell_type": "code",
   "execution_count": 83,
   "metadata": {},
   "outputs": [
    {
     "name": "stdout",
     "output_type": "stream",
     "text": [
      "automatic    538763\n",
      "manual        20046\n",
      "sedan            28\n",
      "Name: transmission, dtype: int64\n"
     ]
    }
   ],
   "source": [
    "transmission_types = car_sales['transmission'].value_counts()\n",
    "print(transmission_types)"
   ]
  },
  {
   "cell_type": "code",
   "execution_count": 84,
   "metadata": {},
   "outputs": [
    {
     "data": {
      "image/png": "[encoded data removed]",
      "text/plain": [
       "<Figure size 576x576 with 1 Axes>"
      ]
     },
     "metadata": {},
     "output_type": "display_data"
    }
   ],
   "source": [
    "plt.figure(figsize=(8, 8))\n",
    "plt.pie(transmission_types, labels=transmission_types.index, autopct='%1.1f%%')\n",
    "plt.title('Distribution of Vehicle Transmissions')\n",
    "plt.show()"
   ]
  },
  {
   "cell_type": "code",
   "execution_count": 85,
   "metadata": {},
   "outputs": [
    {
     "name": "stdout",
     "output_type": "stream",
     "text": [
      "230000.0\n"
     ]
    }
   ],
   "source": [
    "max_price = car_sales['sellingprice'].max()\n",
    "print(max_price)"
   ]
  },
  {
   "cell_type": "code",
   "execution_count": 86,
   "metadata": {},
   "outputs": [
    {
     "name": "stdout",
     "output_type": "stream",
     "text": [
      "1.0\n"
     ]
    }
   ],
   "source": [
    "min_price = car_sales['sellingprice'].min()\n",
    "print(min_price)"
   ]
  },
  {
   "cell_type": "code",
   "execution_count": 87,
   "metadata": {},
   "outputs": [
    {
     "name": "stdout",
     "output_type": "stream",
     "text": [
      "13611.371449993469\n"
     ]
    }
   ],
   "source": [
    "avg_price = car_sales['sellingprice'].mean()\n",
    "print(avg_price)"
   ]
  },
  {
   "cell_type": "code",
   "execution_count": 96,
   "metadata": {},
   "outputs": [
    {
     "ename": "KeyError",
     "evalue": "'sellingprice'",
     "output_type": "error",
     "traceback": [
      "\u001b[1;31m---------------------------------------------------------------------------\u001b[0m",
      "\u001b[1;31mKeyError\u001b[0m                                  Traceback (most recent call last)",
      "\u001b[1;32m<ipython-input-96-359b58f36f2c>\u001b[0m in \u001b[0;36m<module>\u001b[1;34m\u001b[0m\n\u001b[0;32m      1\u001b[0m \u001b[0mplt\u001b[0m\u001b[1;33m.\u001b[0m\u001b[0mfigure\u001b[0m\u001b[1;33m(\u001b[0m\u001b[0mfigsize\u001b[0m\u001b[1;33m=\u001b[0m\u001b[1;33m(\u001b[0m\u001b[1;36m8\u001b[0m\u001b[1;33m,\u001b[0m \u001b[1;36m6\u001b[0m\u001b[1;33m)\u001b[0m\u001b[1;33m)\u001b[0m\u001b[1;33m\u001b[0m\u001b[1;33m\u001b[0m\u001b[0m\n\u001b[0;32m      2\u001b[0m \u001b[0mbox\u001b[0m \u001b[1;33m=\u001b[0m \u001b[0mplt\u001b[0m\u001b[1;33m.\u001b[0m\u001b[0mboxplot\u001b[0m\u001b[1;33m(\u001b[0m\u001b[0mcar_sales\u001b[0m\u001b[1;33m[\u001b[0m\u001b[1;34m'sellingprice'\u001b[0m\u001b[1;33m]\u001b[0m\u001b[1;33m,\u001b[0m \u001b[0mvert\u001b[0m\u001b[1;33m=\u001b[0m\u001b[1;32mFalse\u001b[0m\u001b[1;33m)\u001b[0m\u001b[1;33m\u001b[0m\u001b[1;33m\u001b[0m\u001b[0m\n\u001b[1;32m----> 3\u001b[1;33m \u001b[0mplt\u001b[0m\u001b[1;33m.\u001b[0m\u001b[0mtitle\u001b[0m\u001b[1;33m(\u001b[0m\u001b[1;34m'Box Plot of {sellingprice}'\u001b[0m\u001b[1;33m.\u001b[0m\u001b[0mformat\u001b[0m\u001b[1;33m(\u001b[0m\u001b[1;34m'sellingprice'\u001b[0m\u001b[1;33m)\u001b[0m\u001b[1;33m)\u001b[0m\u001b[1;33m\u001b[0m\u001b[1;33m\u001b[0m\u001b[0m\n\u001b[0m\u001b[0;32m      4\u001b[0m \u001b[0mplt\u001b[0m\u001b[1;33m.\u001b[0m\u001b[0mxlabel\u001b[0m\u001b[1;33m(\u001b[0m\u001b[1;34m'Values'\u001b[0m\u001b[1;33m)\u001b[0m\u001b[1;33m\u001b[0m\u001b[1;33m\u001b[0m\u001b[0m\n\u001b[0;32m      5\u001b[0m \u001b[0mplt\u001b[0m\u001b[1;33m.\u001b[0m\u001b[0mshow\u001b[0m\u001b[1;33m(\u001b[0m\u001b[1;33m)\u001b[0m\u001b[1;33m\u001b[0m\u001b[1;33m\u001b[0m\u001b[0m\n",
      "\u001b[1;31mKeyError\u001b[0m: 'sellingprice'"
     ]
    },
    {
     "data": {
      "image/png": "[encoded data removed]",
      "text/plain": [
       "<Figure size 576x432 with 1 Axes>"
      ]
     },
     "metadata": {
      "needs_background": "light"
     },
     "output_type": "display_data"
    }
   ],
   "source": [
    "plt.figure(figsize=(8, 6))\n",
    "box = plt.boxplot(car_sales['sellingprice'], vert=False)\n",
    "plt.title('Box Plot of {sellingprice}'.format('sellingprice'))\n",
    "plt.xlabel('Values')\n",
    "plt.show()\n",
    "\n",
    "whiskers = [item.get_ydata()[1] for item in box['whiskers']]\n",
    "outliers = df[(df[column_name] < whiskers[0]) | (df[column_name] > whiskers[1])]\n",
    "\n",
    "# Print outliers\n",
    "print(\"Outliers:\")\n",
    "print(outliers)"
   ]
  },
  {
   "cell_type": "code",
   "execution_count": 98,
   "metadata": {},
   "outputs": [
    {
     "name": "stdout",
     "output_type": "stream",
     "text": [
      "Lowest values in column: 'sellingprice':\n",
      "        year           make             model     trim          body  \\\n",
      "7566    2002           Ford  F-350 Super Duty      XLT      Crew Cab   \n",
      "48453   2003  Mercedes-Benz           E-Class     E500         Sedan   \n",
      "293223  2014           Ford      E-Series Van    E-250  E-Series Van   \n",
      "348252  1995          Isuzu             Rodeo       LS           SUV   \n",
      "5184    1997           ford          explorer  awd xlt           SUV   \n",
      "\n",
      "       transmission                vin state  condition  odometer  color  \\\n",
      "7566      automatic  1ftsw31f52ed16477    ca        2.0   26647.5  white   \n",
      "48453     automatic  wdbuf70j73a269529    ga       21.0       1.0  black   \n",
      "293223    automatic  1ftne2ew6eda13643    tx       41.0   31886.0  white   \n",
      "348252    automatic  4s2cm58v9s4375559    va        1.0  254132.0    red   \n",
      "5184      automatic  1fmdu35p5vza56513    ca        1.0  195748.0  white   \n",
      "\n",
      "       interior                      seller      mmr  sellingprice  \\\n",
      "7566       gray                 laa leasing   7850.0           1.0   \n",
      "48453     black  peoples credit company inc   7325.0           1.0   \n",
      "293223     gray                      u-haul  20800.0           1.0   \n",
      "348252     gray  automotive remarketing inc    375.0           1.0   \n",
      "5184      beige   purple heart services inc    500.0         100.0   \n",
      "\n",
      "                                       saledate  \n",
      "7566    Thu Feb 05 2015 04:00:00 GMT-0800 (PST)  \n",
      "48453   Tue Jan 06 2015 09:30:00 GMT-0800 (PST)  \n",
      "293223  Thu Feb 12 2015 03:00:00 GMT-0800 (PST)  \n",
      "348252  Wed Mar 04 2015 01:05:00 GMT-0800 (PST)  \n",
      "5184    Wed Dec 17 2014 11:00:00 GMT-0800 (PST)  \n"
     ]
    }
   ],
   "source": [
    "n = 5\n",
    "lowest_values = car_sales.nsmallest(n,'sellingprice')\n",
    "print(\"Lowest values in column: '{}':\".format('sellingprice'))\n",
    "print(lowest_values)"
   ]
  },
  {
   "cell_type": "code",
   "execution_count": 100,
   "metadata": {},
   "outputs": [
    {
     "name": "stdout",
     "output_type": "stream",
     "text": [
      "Rows with values less than 2000 in column 'sellingprice':\n",
      "        year        make          model         trim          body  \\\n",
      "697     2013      Nissan         Maxima        3.5 S         Sedan   \n",
      "1000    2012    Chrysler            200           LX         Sedan   \n",
      "2191    2014   Chevrolet          Spark          1LT     Hatchback   \n",
      "2758    2010        Ford          Focus           SE         Sedan   \n",
      "2942    2009       Honda          Civic           LX         Sedan   \n",
      "3076    2008       Honda          Civic           LX         Sedan   \n",
      "3090    2008    Chrysler            300           LX         Sedan   \n",
      "3147    2008      Nissan         Sentra            2         Sedan   \n",
      "3166    2008        Jeep        Compass        Sport           SUV   \n",
      "3246    2008     Pontiac             G6           GT         Sedan   \n",
      "3300    2007       Dodge        Charger           RT         Sedan   \n",
      "3347    2007    Chrysler     PT Cruiser      Touring         Wagon   \n",
      "3365    2007         Kia        Spectra           SX         Sedan   \n",
      "3397    2007    Chrysler     PT Cruiser      Limited         Wagon   \n",
      "3409    2007       Honda         Accord           EX         Coupe   \n",
      "3413    2007       Dodge         Magnum           SE         Wagon   \n",
      "3420    2007       Lexus         ES 350         Base         Sedan   \n",
      "3430    2007    Chrysler     PT Cruiser      Touring         Wagon   \n",
      "3444    2007       Dodge        Caliber         Base         Wagon   \n",
      "3460    2007        Ford         Fusion           SE         Sedan   \n",
      "3476    2007      Saturn            ION            2         Sedan   \n",
      "3477    2007      Saturn            VUE         Base           SUV   \n",
      "3493    2007      Saturn            ION            2         Sedan   \n",
      "3515    2007      Saturn            VUE         Base           SUV   \n",
      "3601    2006         BMW       3 Series         325i         Sedan   \n",
      "3615    2007     Mercury          Milan         Base         Sedan   \n",
      "3637    2006   Chevrolet         Impala           LT         Sedan   \n",
      "3658    2006   Chevrolet  Express Cargo         3500           Van   \n",
      "3660    2006       Dodge         Magnum           SE         Wagon   \n",
      "3664    2006   Chevrolet           Aveo           LT     Hatchback   \n",
      "...      ...         ...            ...          ...           ...   \n",
      "558204  2000    Cadillac        DeVille         Base         sedan   \n",
      "558207  1999        Jeep       Cherokee        Sport           suv   \n",
      "558209  1999  Volkswagen         Cabrio          GLS   convertible   \n",
      "558395  2008       Scion             xB         Base         wagon   \n",
      "558418  2006       Dodge        Stratus          SXT         sedan   \n",
      "558433  2005   Chevrolet        Equinox           LT           suv   \n",
      "558434  2005     Hyundai        Elantra          GLS         sedan   \n",
      "558446  2004    Chrysler     PT Cruiser         Base         wagon   \n",
      "558456  2004       Honda        Odyssey           EX       minivan   \n",
      "558458  2004      Nissan         Altima          2.5         sedan   \n",
      "558462  2003       Honda        Odyssey           EX       minivan   \n",
      "558463  2003      Nissan         Altima       2.5 SL         sedan   \n",
      "558464  2003  Mitsubishi        Eclipse           GS     hatchback   \n",
      "558466  2002        Audi             A6  3.0 quattro         sedan   \n",
      "558469  2002    Chrysler     PT Cruiser         Base         wagon   \n",
      "558470  2002       Honda        Odyssey           LX       minivan   \n",
      "558473  2002       Volvo            S60          2.4         sedan   \n",
      "558475  2002       Volvo            S60          2.4         sedan   \n",
      "558477  2000   Chevrolet           S-10           LS  extended cab   \n",
      "558479  2000   Chevrolet       Cavalier         Base         coupe   \n",
      "558480  2000     Lincoln             LS           V6         sedan   \n",
      "558543  2000       Acura             TL          3.2         sedan   \n",
      "558545  2000      Toyota          Camry           LE         sedan   \n",
      "558546  2000      Saturn       L-Series          LS2         sedan   \n",
      "558547  2000      Toyota        Corolla           VE         sedan   \n",
      "558636  2005      Nissan         Altima        2.5 S         sedan   \n",
      "558643  2004  Mitsubishi       Diamante           LS         sedan   \n",
      "558646  2003      Toyota   Camry Solara           SE         coupe   \n",
      "558714  2003  Volkswagen          Jetta     GLS 1.8T         sedan   \n",
      "558717  2000        Ford       Explorer          XLT           suv   \n",
      "\n",
      "       transmission                vin state  condition  odometer     color  \\\n",
      "697       automatic  1n4aa5apxdc839917    ca   1.000000       1.0      gray   \n",
      "1000      automatic  1c3ccbab7cn236141    ca  43.500000       1.0      gray   \n",
      "2191      automatic  kl8cd6s98ec414173    ca  20.000000   33906.0     white   \n",
      "2758      automatic  1fahp3fn6aw272088    ca  19.000000  106781.0     white   \n",
      "2942      automatic  2hgfa16579h341583    ca   3.000000       1.0    silver   \n",
      "3076      automatic  2hgfa16518h311011    ca   1.000000       1.0    silver   \n",
      "3090      automatic  2c3ka43r78h186722    ca  19.000000       1.0     white   \n",
      "3147      automatic  3n1ab61e48l680630    ca  27.000000  155645.0     black   \n",
      "3166      automatic  1j8ft47w78d620280    ca   2.000000       1.0     white   \n",
      "3246      automatic  1g2zh57n384118972    ca   1.000000   59144.0     black   \n",
      "3300      automatic  2b3ka53h07h761901    ca  35.000000       1.0     black   \n",
      "3347      automatic  3a4fy58b97t596366    ca  19.000000   90376.0    yellow   \n",
      "3365      automatic  knafe122075406449    ca  19.000000  128466.0    silver   \n",
      "3397      automatic  3a8fy68b67t587953    ca  29.500000  144005.0      blue   \n",
      "3409      automatic  1hgcm72787a005201    ca   2.000000   90073.0      gray   \n",
      "3413      automatic  2d4fv47v37h744785    ca   1.000000  195664.0      gray   \n",
      "3420         manual  3gnda23d37s503802    ca  38.000000   76597.0     white   \n",
      "3430      automatic  3a4fy58b47t581614    ca  26.000000  102536.0  burgundy   \n",
      "3444      automatic  1b3hb28b77d592774    ca  33.000000  100573.0    silver   \n",
      "3460      automatic  3fahp07z07r258408    ca   2.000000  151270.0     black   \n",
      "3476         manual  1g8az55f37z104387    ca  24.000000   90431.0     black   \n",
      "3477      automatic  5gzcz53437s847669    ca  19.000000   79436.0      gray   \n",
      "3493      automatic  1g8aj55f97z168196    ca  19.000000  119620.0    silver   \n",
      "3515      automatic  5gzcz53467s838819    ca  36.000000  210113.0     white   \n",
      "3601      automatic  wbavb135x6kr64757    ca  29.666667  184049.0       red   \n",
      "3615      automatic  3mehm07z57r605765    ca  21.000000  143418.0     black   \n",
      "3637      automatic  2g1wt58k469213917    ca  19.000000  120425.0      gray   \n",
      "3658      automatic  1gchg39u661139252    ca   1.000000       1.0     white   \n",
      "3660      automatic  2d4fv47t16h155148    ca   2.000000  149569.0     black   \n",
      "3664      automatic  kl1tg66636b664725    ca  19.000000  107469.0       red   \n",
      "...             ...                ...   ...        ...       ...       ...   \n",
      "558204    automatic  1g6kd54y2yu325640    fl  19.000000   98711.0         —   \n",
      "558207    automatic  1j4ff68s8xl555086    ma  19.000000  208049.0     white   \n",
      "558209    automatic  3vwbb81e1xm801472    fl  19.000000   54724.0     green   \n",
      "558395       manual  jtlke50e681012103    ma  19.000000  260676.0     black   \n",
      "558418    automatic  1b3el46x56n141166    ma  19.000000   89611.0     green   \n",
      "558433    automatic  2d4fv48v65h130129    tx  26.000000  199057.0     black   \n",
      "558434       manual  kmhdn46dx5u963889    ma  19.000000  133347.0    silver   \n",
      "558446    automatic  3c4fy48b24t201018    md  34.000000  135658.0      blue   \n",
      "558456    automatic  5fnrl18804b095830    ma  22.000000  165310.0     white   \n",
      "558458    automatic  1n4al11d14c162295    ma  19.000000  142730.0    silver   \n",
      "558462    automatic  5fnrl18633b017166    ma  25.000000  208040.0    silver   \n",
      "558463    automatic  1n4al11d13c212062    ma  19.000000  157285.0      blue   \n",
      "558464    automatic  4a3ac44g83e062308    ma  21.000000  161949.0      gray   \n",
      "558466    automatic  wault64b52n123167    ma  29.000000  147871.0      blue   \n",
      "558469    automatic  3c4fy48b42t229383    ma   2.000000  159891.0      blue   \n",
      "558470    automatic  2hkrl18512h555288    ma   2.000000  215038.0       red   \n",
      "558473    automatic  yv1rs61r422198326    ma  19.000000  166590.0     black   \n",
      "558475    automatic  yv1rs61r122186702    nj   2.000000  116237.0    silver   \n",
      "558477    automatic  1gccs1954y8267943    ma   2.000000  147536.0      gray   \n",
      "558479    automatic  1g1jc1248y7425771    ma  19.000000   72536.0     white   \n",
      "558480    automatic  1lnhm86s4yy790488    ma  29.000000  119444.0    silver   \n",
      "558543    automatic  19uua5671ya036688    fl  19.000000  115992.0      gold   \n",
      "558545    automatic  4n2xn11txyd844711    ma  31.000000  108900.0     green   \n",
      "558546    automatic  1g8jw52r3yy628072    ma  19.000000  186420.0     black   \n",
      "558547    automatic  2t1br12e0yc282591    ma  19.000000  179890.0     green   \n",
      "558636    automatic  1n4al11d65c176758    ca  21.000000  159817.0      gold   \n",
      "558643    automatic  6mmap67p84t001042    ca  19.000000  154212.0    silver   \n",
      "558646    automatic  2t1ce22p23c021592    pa  31.000000  181443.0    silver   \n",
      "558714    automatic  3vwse69mx3m114475    fl   2.000000  133319.0    silver   \n",
      "558717    automatic  1fmzu73e7yza37772    tx  27.000000  220815.0      blue   \n",
      "\n",
      "       interior                                             seller      mmr  \\\n",
      "697       black  enterprise vehicle exchange / tra / rental / t...  16950.0   \n",
      "1000      black                                 santander consumer  10450.0   \n",
      "2191      black  enterprise vehicle exchange / tra / rental / t...   8950.0   \n",
      "2758       gray                           jpmorgan chase bank n.a.   5050.0   \n",
      "2942       gray                   ahfc/honda lease trust/hvt  inc.   9325.0   \n",
      "3076       gray                   ahfc/honda lease trust/hvt  inc.   7900.0   \n",
      "3090      black                        wells fargo dealer services  32500.0   \n",
      "3147       gray                        wells fargo dealer services   3225.0   \n",
      "3166       gray                                 lease plan usa/tra   5850.0   \n",
      "3246       gray                                   axcess financial   7125.0   \n",
      "3300      black                        wells fargo dealer services  12450.0   \n",
      "3347       gray                         lincoln financial services   2275.0   \n",
      "3365       gray                                 santander consumer   1525.0   \n",
      "3397          —                               california fleet inc   1425.0   \n",
      "3409      black                                exeter finance corp   5550.0   \n",
      "3413       gray                                      800 loan mart   2300.0   \n",
      "3420       gray                          toyota financial services   5475.0   \n",
      "3430       gray          consolidated asset recovery systems  inc.   2425.0   \n",
      "3444       gray                                 santander consumer   3225.0   \n",
      "3460      black              repo remarketing/patelco credit union   2700.0   \n",
      "3476       gray                        wells fargo dealer services   3200.0   \n",
      "3477       gray                                        rancho ford   5150.0   \n",
      "3493       gray                                       gm financial   2550.0   \n",
      "3515       gray                          northwestern chrys/j/d/ge    975.0   \n",
      "3601       gray                                       veros credit   3800.0   \n",
      "3615      black                            newport acceptance corp   2225.0   \n",
      "3637       gray                               scott robinson honda   3400.0   \n",
      "3658       gray                   enterprise fm exchange/tra/lease   8675.0   \n",
      "3660       gray                             tidalwave finance corp   3050.0   \n",
      "3664       gray                                    time finance co   2250.0   \n",
      "...         ...                                                ...      ...   \n",
      "558204      tan                                coral springs honda   1275.0   \n",
      "558207     gray                         boch new to you superstore    800.0   \n",
      "558209    beige                                coral springs honda   1400.0   \n",
      "558395    black                            boch toyota/scion south   2200.0   \n",
      "558418     gray                         boch new to you superstore   2000.0   \n",
      "558433     gray                                 mission mitsubishi   1000.0   \n",
      "558434     gray                         boch new to you superstore   1525.0   \n",
      "558446     gray                                        darcars kia   1175.0   \n",
      "558456     gray                         boch new to you superstore   2075.0   \n",
      "558458    black                         boch new to you superstore   1650.0   \n",
      "558462     gray                         boch new to you superstore   1600.0   \n",
      "558463     gray                            boch toyota/scion south   1700.0   \n",
      "558464    black                            boch toyota/scion south   1450.0   \n",
      "558466     gray                         boch new to you superstore   1475.0   \n",
      "558469     gray                            boch toyota/scion south    950.0   \n",
      "558470     gray                         boch new to you superstore    975.0   \n",
      "558473      tan                            boch toyota/scion south   1100.0   \n",
      "558475    black                               k & g auto group llc   1800.0   \n",
      "558477     gray                             prestige auto mart inc   2450.0   \n",
      "558479    black                            boch toyota/scion south    900.0   \n",
      "558480     gray                            boch toyota/scion south   1475.0   \n",
      "558543        —                                     lehman hyundai   1450.0   \n",
      "558545     gray                            boch toyota/scion south   1275.0   \n",
      "558546      tan                            boch toyota/scion south    625.0   \n",
      "558547      tan                             prestige auto mart inc    950.0   \n",
      "558636     gray                                      so cal motors   2200.0   \n",
      "558643     gray                             california auto expert   1200.0   \n",
      "558646     gray                       r hollenshead auto sales inc   1875.0   \n",
      "558714     gray                                     metro ford inc   1425.0   \n",
      "558717     gray                              classic chevrolet inc    475.0   \n",
      "\n",
      "        sellingprice                                 saledate  \n",
      "697           1000.0  Tue Jan 13 2015 13:00:00 GMT-0800 (PST)  \n",
      "1000          1300.0  Tue Dec 16 2014 13:00:00 GMT-0800 (PST)  \n",
      "2191          1400.0  Tue Dec 16 2014 13:00:00 GMT-0800 (PST)  \n",
      "2758           900.0  Tue Dec 16 2014 13:00:00 GMT-0800 (PST)  \n",
      "2942          1000.0  Tue Jun 30 2015 10:00:00 GMT-0700 (PDT)  \n",
      "3076          1300.0  Tue Dec 16 2014 13:00:00 GMT-0800 (PST)  \n",
      "3090          1300.0  Thu Mar 26 2015 04:30:00 GMT-0700 (PDT)  \n",
      "3147          1800.0  Tue Dec 16 2014 13:00:00 GMT-0800 (PST)  \n",
      "3166          1800.0  Wed Feb 18 2015 07:10:00 GMT-0800 (PST)  \n",
      "3246          1500.0  Wed Feb 25 2015 07:10:00 GMT-0800 (PST)  \n",
      "3300          1200.0  Wed Jan 08 2014 12:00:00 GMT-0800 (PST)  \n",
      "3347          1850.0  Wed Dec 17 2014 12:30:00 GMT-0800 (PST)  \n",
      "3365           750.0  Thu Dec 18 2014 12:00:00 GMT-0800 (PST)  \n",
      "3397          1600.0  Thu Dec 18 2014 12:00:00 GMT-0800 (PST)  \n",
      "3409          1500.0  Tue Dec 23 2014 13:00:00 GMT-0800 (PST)  \n",
      "3413          1500.0  Thu Jan 15 2015 04:00:00 GMT-0800 (PST)  \n",
      "3420          1500.0  Wed Dec 17 2014 13:30:00 GMT-0800 (PST)  \n",
      "3430          1600.0  Wed Dec 31 2014 12:30:00 GMT-0800 (PST)  \n",
      "3444          1800.0  Tue Dec 16 2014 13:00:00 GMT-0800 (PST)  \n",
      "3460          1000.0  Wed Dec 17 2014 11:00:00 GMT-0800 (PST)  \n",
      "3476          1400.0  Thu Dec 18 2014 12:00:00 GMT-0800 (PST)  \n",
      "3477          1700.0  Thu Jan 08 2015 12:00:00 GMT-0800 (PST)  \n",
      "3493          1300.0  Wed Dec 17 2014 12:30:00 GMT-0800 (PST)  \n",
      "3515           700.0  Tue Dec 23 2014 12:30:00 GMT-0800 (PST)  \n",
      "3601          1300.0  Tue Dec 16 2014 13:00:00 GMT-0800 (PST)  \n",
      "3615          1500.0  Wed Dec 17 2014 12:05:00 GMT-0800 (PST)  \n",
      "3637          1100.0  Tue Dec 16 2014 12:30:00 GMT-0800 (PST)  \n",
      "3658          1000.0  Tue Dec 16 2014 13:00:00 GMT-0800 (PST)  \n",
      "3660           900.0  Wed Feb 11 2015 03:00:00 GMT-0800 (PST)  \n",
      "3664          1300.0  Wed Dec 31 2014 12:05:00 GMT-0800 (PST)  \n",
      "...              ...                                      ...  \n",
      "558204        1200.0  Fri Jun 19 2015 02:30:00 GMT-0700 (PDT)  \n",
      "558207         300.0  Thu Jun 18 2015 11:30:00 GMT-0700 (PDT)  \n",
      "558209         300.0  Fri Jun 19 2015 02:30:00 GMT-0700 (PDT)  \n",
      "558395        1900.0  Thu Jun 18 2015 11:30:00 GMT-0700 (PDT)  \n",
      "558418        1700.0  Thu Jun 18 2015 11:30:00 GMT-0700 (PDT)  \n",
      "558433        1500.0  Fri Jun 19 2015 03:00:00 GMT-0700 (PDT)  \n",
      "558434         550.0  Thu Jun 18 2015 11:30:00 GMT-0700 (PDT)  \n",
      "558446         550.0  Tue Jun 30 2015 06:30:00 GMT-0700 (PDT)  \n",
      "558456        1700.0  Thu Jun 18 2015 11:30:00 GMT-0700 (PDT)  \n",
      "558458        1200.0  Thu Jun 18 2015 11:30:00 GMT-0700 (PDT)  \n",
      "558462        1000.0  Thu Jun 18 2015 11:30:00 GMT-0700 (PDT)  \n",
      "558463        1300.0  Thu Jun 18 2015 11:30:00 GMT-0700 (PDT)  \n",
      "558464         800.0  Thu Jun 18 2015 11:30:00 GMT-0700 (PDT)  \n",
      "558466        1800.0  Thu Jun 18 2015 11:30:00 GMT-0700 (PDT)  \n",
      "558469         250.0  Thu Jun 18 2015 11:30:00 GMT-0700 (PDT)  \n",
      "558470         300.0  Thu Jun 18 2015 11:30:00 GMT-0700 (PDT)  \n",
      "558473         900.0  Thu Jun 18 2015 11:30:00 GMT-0700 (PDT)  \n",
      "558475         750.0  Thu Jun 18 2015 11:30:00 GMT-0700 (PDT)  \n",
      "558477        1100.0  Thu Jun 18 2015 11:30:00 GMT-0700 (PDT)  \n",
      "558479         700.0  Thu Jun 18 2015 11:30:00 GMT-0700 (PDT)  \n",
      "558480        1100.0  Thu Jun 18 2015 11:30:00 GMT-0700 (PDT)  \n",
      "558543        1800.0  Fri Jun 19 2015 02:20:00 GMT-0700 (PDT)  \n",
      "558545        1100.0  Thu Jun 18 2015 11:30:00 GMT-0700 (PDT)  \n",
      "558546         250.0  Thu Jun 18 2015 11:30:00 GMT-0700 (PDT)  \n",
      "558547        1200.0  Thu Jun 18 2015 11:30:00 GMT-0700 (PDT)  \n",
      "558636        1200.0  Fri Jun 19 2015 08:00:00 GMT-0700 (PDT)  \n",
      "558643        1200.0  Fri Jun 19 2015 08:00:00 GMT-0700 (PDT)  \n",
      "558646        1600.0  Fri Jun 19 2015 02:00:00 GMT-0700 (PDT)  \n",
      "558714         700.0  Fri Jun 19 2015 02:30:00 GMT-0700 (PDT)  \n",
      "558717         600.0  Fri Jun 19 2015 04:00:00 GMT-0700 (PDT)  \n",
      "\n",
      "[37628 rows x 16 columns]\n"
     ]
    }
   ],
   "source": [
    "values_less_than_2000 = car_sales[car_sales['sellingprice'] < 2000]\n",
    "print(\"Rows with values less than 2000 in column '{}':\".format('sellingprice'))\n",
    "print(values_less_than_2000)"
   ]
  },
  {
   "cell_type": "code",
   "execution_count": null,
   "metadata": {},
   "outputs": [],
   "source": []
  }
 ],
 "metadata": {
  "kernelspec": {
   "display_name": "Python 3",
   "language": "python",
   "name": "python3"
  },
  "language_info": {
   "codemirror_mode": {
    "name": "ipython",
    "version": 3
   },
   "file_extension": ".py",
   "mimetype": "text/x-python",
   "name": "python",
   "nbconvert_exporter": "python",
   "pygments_lexer": "ipython3",
   "version": "3.7.3"
  }
 },
 "nbformat": 4,
 "nbformat_minor": 2
}
